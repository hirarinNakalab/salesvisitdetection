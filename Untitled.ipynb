{
 "cells": [
  {
   "cell_type": "code",
   "execution_count": 7,
   "metadata": {},
   "outputs": [
    {
     "name": "stderr",
     "output_type": "stream",
     "text": [
      "/home/dl-box/anaconda3/lib/python3.6/site-packages/ipykernel_launcher.py:66: DeprecationWarning: Call to deprecated `LabeledSentence` (Class will be removed in 4.0.0, use TaggedDocument instead).\n"
     ]
    },
    {
     "name": "stdout",
     "output_type": "stream",
     "text": [
      "138\n"
     ]
    },
    {
     "data": {
      "image/png": "[encoded data removed]",
      "text/plain": [
       "<matplotlib.figure.Figure at 0x7fb216665c88>"
      ]
     },
     "metadata": {},
     "output_type": "display_data"
    }
   ],
   "source": [
    "# exec(open('./parseValidFiles.py').read())\n",
    "exec(open('./plot_ROC_result.py').read())\n",
    "# exec(open('./createDoc2vecModel.py').read())"
   ]
  },
  {
   "cell_type": "code",
   "execution_count": 59,
   "metadata": {},
   "outputs": [
    {
     "data": {
      "text/plain": [
       "0.7262746279882285"
      ]
     },
     "execution_count": 59,
     "metadata": {},
     "output_type": "execute_result"
    }
   ],
   "source": [
    "# model.docvecs.similarity_unseen_docs(model, sentences[3].words , sentences[5].words, alpha=1, min_alpha=0.0001, steps=5)\n",
    "\n",
    "\n",
    "# # for root, dirs, files in os.walk(PATH):\n",
    "# #     for file in files:\n",
    "# #         print(os.path.join(root, file))\n",
    "# vali_vector = model.docvecs['./text/HH/sample003.txt']\n",
    "# print(sentences[3].words)\n",
    "# print(sentences[5].tags)\n",
    "# docu_vector1 = model.infer_vector(sentences[0].words)\n",
    "# docu_vector2 = model.infer_vector(sentences[3].words)\n",
    "# print(spatial.distance.cosine(docu_vector1, docu_vector2) )\n",
    "\n",
    "# model.docvecs.similarity('./text/AA/wiki_00', './text/HH/sample001.txt')"
   ]
  },
  {
   "cell_type": "code",
   "execution_count": 4,
   "metadata": {},
   "outputs": [
    {
     "name": "stdout",
     "output_type": "stream",
     "text": [
      "[1, 1, 1, 1, 1, 1, 1, 1, 1, 1, 1, 1, 1, 1, 1, 1, 1, 1, 1, 1, 2, 1, 1, 1, 1, 1, 1, 1, 1, 1, 1, 1, 1, 1, 1, 1, 2, 1, 1, 1, 1, 2, 1, 1, 1, 1, 1, 1, 1, 1, 1, 1, 1, 1, 1, 1, 1, 1, 1, 1, 1, 1, 1, 1, 1, 1, 1, 1, 1, 1, 1, 1, 1, 1, 1, 1, 1, 1, 1, 1, 1, 1, 1, 1, 2, 1, 1, 1, 1, 1, 1, 1, 1, 2, 1, 1, 1, 1, 2, 1, 1, 2, 1, 1, 1, 1, 1, 1, 1, 1, 1, 1, 1, 1, 1, 1, 1, 1, 1, 1, 1, 1, 2, 1, 1, 1, 1, 2, 1, 1, 1, 1, 1, 1, 1, 1, 1, 1]\n",
      "[0.24822523764201573, 0.2901223954700288, 0.368605253242311, 0.3349686633972895, 0.24974946464811051, 0.35952278829756235, 0.2376237596784319, 0.3120116988817851, 0.31763373953955515, 0.3667436923299517, 0.2700493534406026, 0.24856779405048915, 0.2425693699291774, 0.26834173997243244, 0.28984336909793673, 0.3105414225941613, 0.3258620954695202, 0.2601501629466102, 0.25627663305827547, 0.291102959996178, 0.22359865336191087, 0.3048285103979565, 0.25152714195705594, 0.2996619428907122, 0.2816858575457618, 0.3527232266607739, 0.3158922564415705, 0.2535611731665475, 0.24876065765108382, 0.31065678880328224, 0.2941442387444632, 0.3155547096615746, 0.3060589801697504, 0.33761598808424814, 0.28114594732012066, 0.3276149006116958, 0.34298050971258254, 0.2349484506107512, 0.31623312689009164, 0.3056030897867112, 0.2983934936069307, 0.24812489464169457, 0.3087145686149597, 0.31444038379760014, 0.31148602565129596, 0.2864142514410473, 0.310602449235462, 0.40335151695069815, 0.23232491243453252, 0.30421520414806547, 0.24144714219229563, 0.29557755447569345, 0.28043958686646964, 0.28316683996291386, 0.2510559218270438, 0.23064565658569336, 0.2880426872344244, 0.31280599037806195, 0.27432159582773846, 0.29666647173109506, 0.24099960781279064, 0.275263820375715, 0.29508177439371747, 0.29879680417832877, 0.26155866043908255, 0.3824575685319446, 0.21227820146651494, 0.2792923762684777, 0.2707926176843189, 0.265374793892815, 0.31039078746523174, 0.23195313555853708, 0.3098379174868266, 0.19683196998777844, 0.2475584319659642, 0.342838065964835, 0.23051029727572486, 0.2906554284549895, 0.31646041359220234, 0.27861147267477854, 0.301005414554051, 0.31263494207745507, 0.21060470172337123, 0.3007796917642866, 0.18020912862959362, 0.23362314984911964, 0.2745752050763085, 0.25973345268340337, 0.3940827122756413, 0.37332271678107126, 0.307208898521605, 0.38198184683209374, 0.2600209769748506, 0.20340620619910105, 0.27116158462706064, 0.3441169574147179, 0.33937413635708036, 0.3486020423117138, 0.2349212538628351, 0.26758035875502084, 0.24557944990339733, 0.2656375283286685, 0.3134463968731108, 0.313678366797311, 0.3096326334135873, 0.3131394443057832, 0.24759391659782046, 0.24561009804407755, 0.3215085778917585, 0.36681588774635676, 0.27983865283784415, 0.33501804158801124, 0.3049375954128447, 0.3099807784670875, 0.30463803098315284, 0.3270658424922398, 0.3417519671576364, 0.32549550845509484, 0.2742543731416975, 0.28231046597162884, 0.32282660404841107, 0.30709320590609596, 0.2423056193760463, 0.2783724949473426, 0.42007313455854145, 0.2862266216959272, 0.3211154511996678, 0.23201978774297805, 0.3335775335629781, 0.2670734411194211, 0.27793960911887033, 0.3217547677812122, 0.3197940928595407, 0.308051966485523, 0.22662814174379622, 0.23496012460617793, 0.2838860267684573, 0.2883522624061221]\n"
     ]
    }
   ],
   "source": [
    "from scipy import spatial\n",
    "model = models.Doc2Vec.load('./doc2vec_houhan.model')\n",
    "\n",
    "PATH = './text/HH/'\n",
    "labels = []\n",
    "values = []\n",
    "for root, dirs, files in os.walk(PATH):    \n",
    "    for i in range(len(sentences)):\n",
    "        sum_sim = 0\n",
    "        vali_vector = model.infer_vector(sentences[i].words)\n",
    "        for file in files:\n",
    "            docpath = os.path.join(root, file)     \n",
    "            docu_vector = model.docvecs[docpath]\n",
    "            doc_dis = spatial.distance.cosine(vali_vector, docu_vector) \n",
    "            sum_sim += doc_dis\n",
    "        ave_sim = sum_sim / len(files)\n",
    "        if 'data' in sentences[i].tags[0]:\n",
    "            label = 1\n",
    "            labels.append(label)\n",
    "        else:\n",
    "            label = 2\n",
    "            labels.append(label)\n",
    "        values.append(ave_sim)\n",
    "#         print(sentences[i].tags, \":\", ave_sim, \"->\", label)\n",
    "\n",
    "print(labels)\n",
    "print(values)\n",
    "        \n",
    "\n",
    "# for i in range(9):\n",
    "#     for j in range(9):\n",
    "#         sim_value = model.docvecs.similarity_unseen_docs(model, valid_sentences[i].words , test_sentences[j].words, alpha=1, min_alpha=0.0001, steps=5)\n",
    "#         print(valid_sentences[i].tags)\n",
    "#         print(test_sentences[j].tags)\n",
    "#         print(sim_value)"
   ]
  },
  {
   "cell_type": "code",
   "execution_count": 6,
   "metadata": {},
   "outputs": [
    {
     "data": {
      "image/png": "[encoded data removed]",
      "text/plain": [
       "<matplotlib.figure.Figure at 0x7fb21ff38fd0>"
      ]
     },
     "metadata": {},
     "output_type": "display_data"
    }
   ],
   "source": [
    "# import os\n",
    "# import sys\n",
    "# import MeCab\n",
    "# import collections\n",
    "# from gensim import models\n",
    "# from gensim.models.doc2vec import LabeledSentence\n",
    "\n",
    "# INPUT_DOC_DIR = './text/'\n",
    "# ENC_TEXT_CONFIG = 'utf-8'\n",
    "# OUTPUT_MODEL = 'doc2vec_re.model'\n",
    "\n",
    "import numpy as np\n",
    "from sklearn import metrics\n",
    "import matplotlib.pyplot as plt\n",
    "\n",
    "y = np.array(labels)\n",
    "scores = np.array(values)\n",
    "\n",
    "fpr, tpr, thresholds = metrics.roc_curve(y, scores, pos_label=2)\n",
    "auc = metrics.auc(fpr, tpr)\n",
    "\n",
    "plt.plot(fpr, tpr, label='ROC curve (area = %.2f)' %auc)\n",
    "plt.legend()\n",
    "plt.title('ROC curve')\n",
    "plt.xlabel('False Positive Rate')\n",
    "plt.ylabel('True Positive Rate')\n",
    "plt.grid(True)"
   ]
  },
  {
   "cell_type": "code",
   "execution_count": 81,
   "metadata": {},
   "outputs": [
    {
     "name": "stdout",
     "output_type": "stream",
     "text": [
      "\r",
      "前処理中 0 / 2625\r",
      "前処理中 1 / 2625"
     ]
    },
    {
     "name": "stderr",
     "output_type": "stream",
     "text": [
      "/home/dl-box/anaconda3/lib/python3.6/site-packages/ipykernel_launcher.py:44: DeprecationWarning: Call to deprecated `LabeledSentence` (Class will be removed in 4.0.0, use TaggedDocument instead).\n"
     ]
    },
    {
     "name": "stdout",
     "output_type": "stream",
     "text": [
      "前処理中 2624 / 2625\n"
     ]
    },
    {
     "name": "stderr",
     "output_type": "stream",
     "text": [
      "/home/dl-box/anaconda3/lib/python3.6/site-packages/gensim/models/doc2vec.py:362: UserWarning: The parameter `iter` is deprecated, will be removed in 4.0.0, use `epochs` instead.\n",
      "  warnings.warn(\"The parameter `iter` is deprecated, will be removed in 4.0.0, use `epochs` instead.\")\n",
      "/home/dl-box/anaconda3/lib/python3.6/site-packages/gensim/models/doc2vec.py:366: UserWarning: The parameter `size` is deprecated, will be removed in 4.0.0, use `vector_size` instead.\n",
      "  warnings.warn(\"The parameter `size` is deprecated, will be removed in 4.0.0, use `vector_size` instead.\")\n",
      "/home/dl-box/anaconda3/lib/python3.6/site-packages/ipykernel_launcher.py:57: DeprecationWarning: Call to deprecated `iter` (Attribute will be removed in 4.0.0, use self.epochs instead).\n"
     ]
    }
   ],
   "source": [
    "# 全てのファイルのリストを取得\n",
    "def get_all_files(directory):\n",
    "    for root, dirs, files in os.walk(directory):\n",
    "        for file in files:\n",
    "            yield os.path.join(root, file)\n",
    "\n",
    "# ファイルから文章を返す\n",
    "def read_document(path):\n",
    "    with open(path, 'r', encoding=ENC_TEXT_CONFIG, errors='ignore') as f:\n",
    "        return f.read()\n",
    "\n",
    "# 青空文庫ファイルから作品部分のみ抜き出す\n",
    "def trim_doc(doc):\n",
    "    lines = doc.splitlines()\n",
    "    valid_lines = []\n",
    "    for line in lines:\n",
    "        if line == '':\n",
    "            continue\n",
    "        if line.startswith('<doc') or line.startswith('</doc'):\n",
    "            continue\n",
    "        if \"colspan\" in line or \"|||||\" in line:\n",
    "                continue\n",
    "        if '＠'in line:\n",
    "            continue\n",
    "        if line.startswith('％'):\n",
    "            continue\n",
    "        if line.startswith('F'):\n",
    "            line = line[5:]\n",
    "        #print(line)\n",
    "        valid_lines.append(line)\n",
    "    \n",
    "    return ''.join(valid_lines)\n",
    "\n",
    "# 文章から単語に分解して返す\n",
    "def split_into_words(doc, name=''):\n",
    "    mecab = MeCab.Tagger(\"-Ochasen\")\n",
    "    valid_doc = trim_doc(doc)\n",
    "    lines = mecab.parse(valid_doc).splitlines()\n",
    "    words = []\n",
    "    for line in lines:\n",
    "        chunks = line.split('\\t')\n",
    "        if len(chunks) > 3 and (chunks[3].startswith('動詞') or chunks[3].startswith('形容詞') or (chunks[3].startswith('名詞') and not chunks[3].startswith('名詞-数'))):\n",
    "            words.append(chunks[0])\n",
    "    return LabeledSentence(words=words, tags=[name])\n",
    "\n",
    "# ファイルから単語のリストを取得\n",
    "def corpus_to_sentences(corpus):\n",
    "    docs = [read_document(x) for x in corpus]\n",
    "    for idx, (doc, name) in enumerate(zip(docs, corpus)):\n",
    "        sys.stdout.write('\\r前処理中 {} / {}'.format(idx, len(corpus)))\n",
    "        yield split_into_words(doc, name)\n",
    "\n",
    "# 学習\n",
    "def train(sentences):\n",
    "    model = models.Doc2Vec(size=400, alpha=0.0015, sample=1e-4, min_count=1, workers=4, iter=20)\n",
    "    model.build_vocab(sentences)    \n",
    "    model.train(sentences, epochs=model.iter, total_examples=model.corpus_count)\n",
    "    \n",
    "    return model\n",
    "\n",
    "if __name__ == '__main__':\n",
    "    corpus = list(get_all_files(INPUT_DOC_DIR))\n",
    "    sentences = list(corpus_to_sentences(corpus))\n",
    "    print()\n",
    "    model = train(sentences)\n",
    "    model.save(OUTPUT_MODEL)"
   ]
  },
  {
   "cell_type": "code",
   "execution_count": null,
   "metadata": {},
   "outputs": [],
   "source": []
  },
  {
   "cell_type": "code",
   "execution_count": null,
   "metadata": {},
   "outputs": [],
   "source": []
  },
  {
   "cell_type": "code",
   "execution_count": null,
   "metadata": {},
   "outputs": [],
   "source": []
  },
  {
   "cell_type": "code",
   "execution_count": null,
   "metadata": {},
   "outputs": [],
   "source": []
  },
  {
   "cell_type": "code",
   "execution_count": null,
   "metadata": {},
   "outputs": [],
   "source": []
  },
  {
   "cell_type": "code",
   "execution_count": null,
   "metadata": {},
   "outputs": [],
   "source": []
  }
 ],
 "metadata": {
  "kernelspec": {
   "display_name": "Python 3",
   "language": "python",
   "name": "python3"
  },
  "language_info": {
   "codemirror_mode": {
    "name": "ipython",
    "version": 3
   },
   "file_extension": ".py",
   "mimetype": "text/x-python",
   "name": "python",
   "nbconvert_exporter": "python",
   "pygments_lexer": "ipython3",
   "version": "3.6.4"
  }
 },
 "nbformat": 4,
 "nbformat_minor": 2
}
