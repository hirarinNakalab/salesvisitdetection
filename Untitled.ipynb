{
 "cells": [
  {
   "cell_type": "code",
   "execution_count": 1,
   "metadata": {
    "scrolled": true
   },
   "outputs": [
    {
     "name": "stderr",
     "output_type": "stream",
     "text": [
      "/home/dl-box/anaconda3/lib/python3.6/site-packages/ipykernel_launcher.py:65: DeprecationWarning: Call to deprecated `LabeledSentence` (Class will be removed in 4.0.0, use TaggedDocument instead).\n"
     ]
    },
    {
     "name": "stdout",
     "output_type": "stream",
     "text": [
      "9\n",
      "[1 2 1 2 1 1 1 2 1]\n",
      "[0.47098664 0.60312121 0.59784558 0.61879953 0.5648912  0.54376305\n",
      " 0.60624274 0.61140873 0.57212358]\n"
     ]
    }
   ],
   "source": [
    "import numpy as np\n",
    "import matplotlib\n",
    "matplotlib.use('Agg')\n",
    "import matplotlib.pyplot as plt\n",
    "from gensim import models\n",
    "from sklearn import metrics\n",
    "from scipy import spatial\n",
    "\n",
    "\n",
    "LOAD_MODEL = 'doc2vec_houhan(saigen-size300-classify).model'\n",
    "HOUHAN_PATH = './text/HH/HIGH/'\n",
    "\n",
    "low_list = ['G', 'H', 'I']\n",
    "mid_list = ['A', 'C', 'J']\n",
    "high_list = ['B', 'K', 'L']\n",
    "exec(open('./parseValidFiles.py').read())\n",
    "\n",
    "model = models.Doc2Vec.load(LOAD_MODEL)\n",
    "\n",
    "labels = []\n",
    "values = []\n",
    "\n",
    "for root, dirs, files in os.walk(HOUHAN_PATH):    \n",
    "    for i in range(len(vali_sentences)):\n",
    "        isHigh = False\n",
    "        sum_sim = 0\n",
    "        vali_vector = model.infer_vector(vali_sentences[i].words)\n",
    "        for file in files:\n",
    "            docpath = os.path.join(root, file)     \n",
    "            docu_vector = model.docvecs[docpath]\n",
    "            doc_dis = 1 - spatial.distance.cosine(vali_vector, docu_vector) \n",
    "            sum_sim += doc_dis\n",
    "        ave_sim = sum_sim / len(files)\n",
    "        for high in high_list:\n",
    "            if high in vali_sentences[i].tags[0]:\n",
    "                label = 2\n",
    "                labels.append(label)\n",
    "                isHigh = True\n",
    "        if isHigh == False:\n",
    "            label = 1\n",
    "            labels.append(label)\n",
    "        values.append(ave_sim)\n",
    "        \n",
    "y = np.array(labels)\n",
    "scores = np.array(values)\n",
    "\n",
    "print(y)\n",
    "print(scores)\n",
    "\n",
    "fpr, tpr, thresholds = metrics.roc_curve(y, scores, pos_label=2, drop_intermediate=False)\n",
    "auc = metrics.auc(fpr, tpr)\n",
    "\n",
    "# plt.plot(fpr, tpr, label='cosine similarity of PV-DM (area = %.2f)' %auc)\n",
    "# plt.legend()\n",
    "# plt.title('Sales Visit Classification- Receiver Operating Characteristic')\n",
    "# plt.xlabel('False Positive Rate')\n",
    "# plt.ylabel('True Positive Rate')\n",
    "# plt.grid(True)\n",
    "# plt.plot([0, 1], [0, 1], linestyle='--', lw=2, color='r', label='Luck', alpha=.8)\n",
    "# plt.savefig('high.png')"
   ]
  },
  {
   "cell_type": "code",
   "execution_count": 2,
   "metadata": {},
   "outputs": [
    {
     "name": "stderr",
     "output_type": "stream",
     "text": [
      "/home/dl-box/anaconda3/lib/python3.6/site-packages/ipykernel_launcher.py:8: DeprecationWarning: \n",
      ".ix is deprecated. Please use\n",
      ".loc for label based indexing or\n",
      ".iloc for positional indexing\n",
      "\n",
      "See the documentation here:\n",
      "http://pandas.pydata.org/pandas-docs/stable/indexing.html#ix-indexer-is-deprecated\n",
      "  \n"
     ]
    },
    {
     "data": {
      "text/html": [
       "<div>\n",
       "<style scoped>\n",
       "    .dataframe tbody tr th:only-of-type {\n",
       "        vertical-align: middle;\n",
       "    }\n",
       "\n",
       "    .dataframe tbody tr th {\n",
       "        vertical-align: top;\n",
       "    }\n",
       "\n",
       "    .dataframe thead th {\n",
       "        text-align: right;\n",
       "    }\n",
       "</style>\n",
       "<table border=\"1\" class=\"dataframe\">\n",
       "  <thead>\n",
       "    <tr style=\"text-align: right;\">\n",
       "      <th></th>\n",
       "      <th>1-fpr</th>\n",
       "      <th>fpr</th>\n",
       "      <th>tf</th>\n",
       "      <th>thresholds</th>\n",
       "      <th>tpr</th>\n",
       "    </tr>\n",
       "  </thead>\n",
       "  <tbody>\n",
       "    <tr>\n",
       "      <th>3</th>\n",
       "      <td>0.833333</td>\n",
       "      <td>0.166667</td>\n",
       "      <td>0.166667</td>\n",
       "      <td>0.603121</td>\n",
       "      <td>1.0</td>\n",
       "    </tr>\n",
       "  </tbody>\n",
       "</table>\n",
       "</div>"
      ],
      "text/plain": [
       "      1-fpr       fpr        tf  thresholds  tpr\n",
       "3  0.833333  0.166667  0.166667    0.603121  1.0"
      ]
     },
     "execution_count": 2,
     "metadata": {},
     "output_type": "execute_result"
    }
   ],
   "source": [
    "# exec(open('./parseValidFiles.py').read())\n",
    "# exec(open('./plot_ROC_result.py').read())\n",
    "# exec(open('./createDoc2vecModel.py').read())\n",
    "import pandas as pd\n",
    "\n",
    "i = np.arange(len(tpr))\n",
    "roc = pd.DataFrame({'fpr':pd.Series(fpr, index=i), 'tpr':pd.Series(tpr, index=i), '1-fpr':pd.Series(1-fpr, index=i), 'tf':pd.Series(tpr-(1-fpr), index=i), 'thresholds':pd.Series(thresholds, index=i)})\n",
    "roc.ix[(roc.tf - 0).abs().argsort()[:1]]"
   ]
  },
  {
   "cell_type": "code",
   "execution_count": 3,
   "metadata": {
    "scrolled": false
   },
   "outputs": [
    {
     "name": "stdout",
     "output_type": "stream",
     "text": [
      "G\n",
      "H\n",
      "I\n"
     ]
    }
   ],
   "source": [
    "#DBoW-QDup->vector_size=300, window=15, start=0.025, end=0.0001, sample=1e-5 *20\n",
    "#DBoW-STS->vector_size=300, window=15, start=0.025, end=0.0001, sample=1e-5 *400\n",
    "#DBoW-QDup-WikiOnly->vector_size=300, window=15, start=0.025, end=0.0001, sample=1e-5 *20\n",
    "#const-alpha->vector_size=300, window=15, start=0.0015, end=0.0015, sample=1e-5 *20\n",
    "low_list = ['G', 'H', 'I']\n",
    "for low in low_list:\n",
    "    print(low)"
   ]
  },
  {
   "cell_type": "code",
   "execution_count": 42,
   "metadata": {},
   "outputs": [
    {
     "data": {
      "image/png": "[encoded data removed]",
      "text/plain": [
       "<matplotlib.figure.Figure at 0x7f9252a3e470>"
      ]
     },
     "metadata": {},
     "output_type": "display_data"
    }
   ],
   "source": [
    "exec(open('./plot_ROC_result.py').read())\n",
    "#DBoW-STS"
   ]
  },
  {
   "cell_type": "code",
   "execution_count": 4,
   "metadata": {},
   "outputs": [
    {
     "name": "stdout",
     "output_type": "stream",
     "text": [
      "['./validation/data120.txt'] : 0.5172682816074008 -> 1\n",
      "['./validation/data019.txt'] : 0.5145694556690398 -> 1\n",
      "['./validation/data036.txt'] : 0.46529203795251395 -> 1\n",
      "['./validation/data008.txt'] : 0.4936545789241791 -> 1\n",
      "['./validation/data020.txt'] : 0.49728199981507804 -> 1\n",
      "['./validation/data103.txt'] : 0.4818100801536015 -> 1\n",
      "['./validation/data069.txt'] : 0.5429930772100177 -> 1\n",
      "['./validation/data026.txt'] : 0.5159217147600084 -> 1\n",
      "['./validation/data039.txt'] : 0.5341602350984301 -> 1\n",
      "['./validation/data047.txt'] : 0.49451816223916556 -> 1\n",
      "['./validation/data012.txt'] : 0.550637057849339 -> 1\n",
      "['./validation/data068.txt'] : 0.5110795753342765 -> 1\n",
      "['./validation/data083.txt'] : 0.5540646868092673 -> 1\n",
      "['./validation/data032.txt'] : 0.5179268008186704 -> 1\n",
      "['./validation/data001.txt'] : 0.516414897782462 -> 1\n",
      "['./validation/data031.txt'] : 0.5218156732264019 -> 1\n",
      "['./validation/data050.txt'] : 0.5175267387004125 -> 1\n",
      "['./validation/data127.txt'] : 0.49868091515132357 -> 1\n",
      "['./validation/data088.txt'] : 0.5896931574458167 -> 1\n",
      "['./validation/data004.txt'] : 0.48288207820483614 -> 1\n",
      "['./validation/sample_G.txt'] : 0.5145102994782584 -> 2\n",
      "['./validation/data037.txt'] : 0.4947254132656824 -> 1\n",
      "['./validation/data102.txt'] : 0.5050127194041297 -> 1\n",
      "['./validation/data087.txt'] : 0.5129262436003912 -> 1\n",
      "['./validation/data113.txt'] : 0.5440748873211089 -> 1\n",
      "['./validation/data018.txt'] : 0.4633118439288366 -> 1\n",
      "['./validation/data058.txt'] : 0.4882770095552717 -> 1\n",
      "['./validation/data085.txt'] : 0.5447044117110116 -> 1\n",
      "['./validation/data081.txt'] : 0.5575985312461853 -> 1\n",
      "['./validation/data002.txt'] : 0.5241045923460097 -> 1\n",
      "['./validation/data114.txt'] : 0.5072130461533865 -> 1\n",
      "['./validation/data097.txt'] : 0.506318952356066 -> 1\n",
      "['./validation/data080.txt'] : 0.5095063135737464 -> 1\n",
      "['./validation/data029.txt'] : 0.495224498567127 -> 1\n",
      "['./validation/data043.txt'] : 0.5573951942580087 -> 1\n",
      "['./validation/data108.txt'] : 0.5261032056240809 -> 1\n",
      "['./validation/sample_K.txt'] : 0.631615161895752 -> 2\n",
      "['./validation/data100.txt'] : 0.5134075624602181 -> 1\n",
      "['./validation/data022.txt'] : 0.4823942184448242 -> 1\n",
      "['./validation/data126.txt'] : 0.4346490147567931 -> 1\n",
      "['./validation/data053.txt'] : 0.49069699786958243 -> 1\n",
      "['./validation/sample_H.txt'] : 0.5896959773131779 -> 2\n",
      "['./validation/data049.txt'] : 0.5084172771090553 -> 1\n",
      "['./validation/data045.txt'] : 0.47799624715532574 -> 1\n",
      "['./validation/data104.txt'] : 0.46992301089423044 -> 1\n",
      "['./validation/data084.txt'] : 0.5268752801985968 -> 1\n",
      "['./validation/data072.txt'] : 0.47756322934514 -> 1\n",
      "['./validation/data035.txt'] : 0.4573155471256801 -> 1\n",
      "['./validation/data121.txt'] : 0.5467084263052259 -> 1\n",
      "['./validation/data123.txt'] : 0.45966145396232605 -> 1\n",
      "['./validation/data059.txt'] : 0.5903323122433254 -> 1\n",
      "['./validation/data067.txt'] : 0.5314116861139025 -> 1\n",
      "['./validation/data005.txt'] : 0.5008890344983056 -> 1\n",
      "['./validation/data110.txt'] : 0.5536408339227948 -> 1\n",
      "['./validation/data073.txt'] : 0.49605821285928997 -> 1\n",
      "['./validation/data065.txt'] : 0.5770224176702046 -> 1\n",
      "['./validation/data076.txt'] : 0.5247599085172018 -> 1\n",
      "['./validation/data129.txt'] : 0.5086794197559357 -> 1\n",
      "['./validation/data027.txt'] : 0.5416326494443984 -> 1\n",
      "['./validation/data041.txt'] : 0.5343753184591021 -> 1\n",
      "['./validation/data015.txt'] : 0.5810051872616723 -> 1\n",
      "['./validation/data107.txt'] : 0.5217046382881346 -> 1\n",
      "['./validation/data060.txt'] : 0.5228274961312612 -> 1\n",
      "['./validation/data101.txt'] : 0.5145281326203119 -> 1\n",
      "['./validation/data011.txt'] : 0.5164498502299899 -> 1\n",
      "['./validation/data024.txt'] : 0.46407954891522724 -> 1\n",
      "['./validation/data030.txt'] : 0.5819578369458517 -> 1\n",
      "['./validation/data122.txt'] : 0.5275123871508098 -> 1\n",
      "['./validation/data106.txt'] : 0.5360489672138578 -> 1\n",
      "['./validation/data052.txt'] : 0.5313067663283575 -> 1\n",
      "['./validation/data128.txt'] : 0.49202231282279607 -> 1\n",
      "['./validation/data057.txt'] : 0.5458579347247169 -> 1\n",
      "['./validation/data109.txt'] : 0.5049495257082439 -> 1\n",
      "['./validation/data075.txt'] : 0.6016076150394621 -> 1\n",
      "['./validation/data040.txt'] : 0.5727131423496065 -> 1\n",
      "['./validation/data054.txt'] : 0.4722596037955511 -> 1\n",
      "['./validation/data070.txt'] : 0.5319218607175917 -> 1\n",
      "['./validation/data055.txt'] : 0.5240033467610677 -> 1\n",
      "['./validation/data010.txt'] : 0.49817498383067904 -> 1\n",
      "['./validation/data025.txt'] : 0.5231985123384566 -> 1\n",
      "['./validation/data082.txt'] : 0.5112267079807463 -> 1\n",
      "['./validation/data023.txt'] : 0.49714369717098417 -> 1\n",
      "['./validation/data091.txt'] : 0.5776783852350145 -> 1\n",
      "['./validation/data006.txt'] : 0.5269353191057841 -> 1\n",
      "['./validation/sample_B.txt'] : 0.6263371904691061 -> 2\n",
      "['./validation/data033.txt'] : 0.5675915437085288 -> 1\n",
      "['./validation/data077.txt'] : 0.503181924422582 -> 1\n",
      "['./validation/data119.txt'] : 0.5331569768133617 -> 1\n",
      "['./validation/data028.txt'] : 0.4856927664507003 -> 1\n",
      "['./validation/data089.txt'] : 0.525755246480306 -> 1\n",
      "['./validation/data062.txt'] : 0.5129786474364144 -> 1\n",
      "['./validation/data063.txt'] : 0.4918086770034972 -> 1\n",
      "['./validation/data034.txt'] : 0.5204742394742512 -> 1\n",
      "['./validation/sample_J.txt'] : 0.6125861477284205 -> 2\n",
      "['./validation/data079.txt'] : 0.5454397229921251 -> 1\n",
      "['./validation/data017.txt'] : 0.4848552090781076 -> 1\n",
      "['./validation/data094.txt'] : 0.5619512626102993 -> 1\n",
      "['./validation/data042.txt'] : 0.4787160271690005 -> 1\n",
      "['./validation/sample_A.txt'] : 0.5188657471111843 -> 2\n",
      "['./validation/data098.txt'] : 0.5193722986039662 -> 1\n",
      "['./validation/data014.txt'] : 0.5348636919543857 -> 1\n",
      "['./validation/sample_C.txt'] : 0.6112606866019112 -> 2\n",
      "['./validation/data066.txt'] : 0.48586569797425044 -> 1\n",
      "['./validation/data048.txt'] : 0.496252776611419 -> 1\n",
      "['./validation/data021.txt'] : 0.494456783646629 -> 1\n",
      "['./validation/data003.txt'] : 0.4888343073072888 -> 1\n",
      "['./validation/data044.txt'] : 0.5744156354949588 -> 1\n",
      "['./validation/data046.txt'] : 0.541913024016789 -> 1\n",
      "['./validation/data056.txt'] : 0.5099949638048807 -> 1\n",
      "['./validation/data007.txt'] : 0.527363467784155 -> 1\n",
      "['./validation/data118.txt'] : 0.5562005866141546 -> 1\n",
      "['./validation/data016.txt'] : 0.5210881006150019 -> 1\n",
      "['./validation/data095.txt'] : 0.5240994095802307 -> 1\n",
      "['./validation/data125.txt'] : 0.5146626120521909 -> 1\n",
      "['./validation/data096.txt'] : 0.4918810044016157 -> 1\n",
      "['./validation/data009.txt'] : 0.4960394004980723 -> 1\n",
      "['./validation/data105.txt'] : 0.4511884365762983 -> 1\n",
      "['./validation/data086.txt'] : 0.4521830834093548 -> 1\n",
      "['./validation/data099.txt'] : 0.5277804249808902 -> 1\n",
      "['./validation/data051.txt'] : 0.5512810746828715 -> 1\n",
      "['./validation/data116.txt'] : 0.5068428346088955 -> 1\n",
      "['./validation/data093.txt'] : 0.5101498166720072 -> 1\n",
      "['./validation/sample_L.txt'] : 0.6320680181185404 -> 2\n",
      "['./validation/data013.txt'] : 0.4894033613659087 -> 1\n",
      "['./validation/data064.txt'] : 0.4923343289466131 -> 1\n",
      "['./validation/data090.txt'] : 0.4640422264734904 -> 1\n",
      "['./validation/data061.txt'] : 0.5066717082545871 -> 1\n",
      "['./validation/sample_I.txt'] : 0.6051644342286246 -> 2\n",
      "['./validation/data115.txt'] : 0.5038480659325918 -> 1\n",
      "['./validation/data038.txt'] : 0.5776963304905665 -> 1\n",
      "['./validation/data074.txt'] : 0.5571828768366859 -> 1\n",
      "['./validation/data124.txt'] : 0.4740666278770992 -> 1\n",
      "['./validation/data092.txt'] : 0.5189558366934458 -> 1\n",
      "['./validation/data117.txt'] : 0.4934531052907308 -> 1\n",
      "['./validation/data071.txt'] : 0.5248458726065499 -> 1\n",
      "['./validation/data078.txt'] : 0.5534569848151434 -> 1\n",
      "['./validation/data112.txt'] : 0.5302145495301201 -> 1\n",
      "['./validation/data111.txt'] : 0.5562781436102731 -> 1\n"
     ]
    }
   ],
   "source": [
    "for root, dirs, files in os.walk(HOUHAN_PATH):    \n",
    "    for i in range(len(vali_sentences)):\n",
    "        sum_sim = 0\n",
    "        vali_vector = model.infer_vector(vali_sentences[i].words)\n",
    "        for file in files:\n",
    "            docpath = os.path.join(root, file)     \n",
    "            docu_vector = model.docvecs[docpath]\n",
    "            doc_dis = 1 - spatial.distance.cosine(vali_vector, docu_vector) \n",
    "            sum_sim += doc_dis\n",
    "        ave_sim = sum_sim / len(files)\n",
    "        \n",
    "        print(vali_sentences[i].tags, \":\", ave_sim, \"->\", y[i])"
   ]
  },
  {
   "cell_type": "code",
   "execution_count": 10,
   "metadata": {},
   "outputs": [
    {
     "data": {
      "text/plain": [
       "138"
      ]
     },
     "execution_count": 10,
     "metadata": {},
     "output_type": "execute_result"
    }
   ],
   "source": [
    "len(vali_sentences)"
   ]
  },
  {
   "cell_type": "code",
   "execution_count": null,
   "metadata": {},
   "outputs": [],
   "source": []
  },
  {
   "cell_type": "code",
   "execution_count": null,
   "metadata": {},
   "outputs": [],
   "source": []
  },
  {
   "cell_type": "code",
   "execution_count": null,
   "metadata": {},
   "outputs": [],
   "source": []
  },
  {
   "cell_type": "code",
   "execution_count": null,
   "metadata": {},
   "outputs": [],
   "source": []
  },
  {
   "cell_type": "code",
   "execution_count": null,
   "metadata": {},
   "outputs": [],
   "source": []
  },
  {
   "cell_type": "code",
   "execution_count": null,
   "metadata": {},
   "outputs": [],
   "source": []
  },
  {
   "cell_type": "code",
   "execution_count": null,
   "metadata": {},
   "outputs": [],
   "source": []
  }
 ],
 "metadata": {
  "kernelspec": {
   "display_name": "Python 3",
   "language": "python",
   "name": "python3"
  },
  "language_info": {
   "codemirror_mode": {
    "name": "ipython",
    "version": 3
   },
   "file_extension": ".py",
   "mimetype": "text/x-python",
   "name": "python",
   "nbconvert_exporter": "python",
   "pygments_lexer": "ipython3",
   "version": "3.6.4"
  }
 },
 "nbformat": 4,
 "nbformat_minor": 2
}
