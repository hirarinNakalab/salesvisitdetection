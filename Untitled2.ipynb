{
 "cells": [
  {
   "cell_type": "code",
   "execution_count": 3,
   "metadata": {},
   "outputs": [
    {
     "name": "stdout",
     "output_type": "stream",
     "text": [
      "\r",
      "前処理中 0 / 101\r",
      "前処理中 1 / 101\r",
      "前処理中 2 / 101\r",
      "前処理中 3 / 101\r",
      "前処理中 4 / 101\r",
      "前処理中 5 / 101\r",
      "前処理中 6 / 101\r",
      "前処理中 7 / 101\r",
      "前処理中 8 / 101\r",
      "前処理中 9 / 101"
     ]
    },
    {
     "name": "stderr",
     "output_type": "stream",
     "text": [
      "/home/dl-box/anaconda3/lib/python3.6/site-packages/ipykernel_launcher.py:60: DeprecationWarning: Call to deprecated `LabeledSentence` (Class will be removed in 4.0.0, use TaggedDocument instead).\n"
     ]
    },
    {
     "name": "stdout",
     "output_type": "stream",
     "text": [
      "前処理中 100 / 101\n"
     ]
    },
    {
     "name": "stderr",
     "output_type": "stream",
     "text": [
      "/home/dl-box/anaconda3/lib/python3.6/site-packages/gensim/models/doc2vec.py:362: UserWarning: The parameter `iter` is deprecated, will be removed in 4.0.0, use `epochs` instead.\n",
      "  warnings.warn(\"The parameter `iter` is deprecated, will be removed in 4.0.0, use `epochs` instead.\")\n",
      "/home/dl-box/anaconda3/lib/python3.6/site-packages/gensim/models/doc2vec.py:366: UserWarning: The parameter `size` is deprecated, will be removed in 4.0.0, use `vector_size` instead.\n",
      "  warnings.warn(\"The parameter `size` is deprecated, will be removed in 4.0.0, use `vector_size` instead.\")\n",
      "/home/dl-box/anaconda3/lib/python3.6/site-packages/ipykernel_launcher.py:75: DeprecationWarning: Call to deprecated `iter` (Attribute will be removed in 4.0.0, use self.epochs instead).\n"
     ]
    }
   ],
   "source": [
    "import os\n",
    "import sys\n",
    "import MeCab\n",
    "import collections\n",
    "from gensim import models\n",
    "from gensim.models.doc2vec import LabeledSentence\n",
    "\n",
    "INPUT_DOC_DIR = './test/'\n",
    "ENC_CONFIG = 'utf-8'\n",
    "OUTPUT_MODEL = 'doc2vec_conv.model'\n",
    "# PASSING_PRECISION = 94\n",
    "\n",
    "# 全てのファイルのリストを取得\n",
    "def get_all_files(directory):\n",
    "    for root, dirs, files in os.walk(directory):\n",
    "        for file in files:\n",
    "            yield os.path.join(root, file)\n",
    "\n",
    "# ファイルから文章を返す\n",
    "def read_document(path):\n",
    "    with open(path, 'r', encoding=ENC_CONFIG, errors='ignore') as f:\n",
    "        return f.read()\n",
    "\n",
    "# 青空文庫ファイルから作品部分のみ抜き出す\n",
    "def trim_doc(doc):\n",
    "    lines = doc.splitlines()\n",
    "    valid_lines = []\n",
    "    for line in lines:\n",
    "        if line == '':\n",
    "            continue\n",
    "        if line.startswith('<doc') or line.startswith('</doc'):\n",
    "            continue\n",
    "        if \"colspan\" in line or \"|||||\" in line:\n",
    "                continue\n",
    "        if '＠'in line:\n",
    "            continue\n",
    "        if line.startswith('＃'):\n",
    "            line = line[1:]\n",
    "        if line.startswith('％'):\n",
    "            continue\n",
    "        if line.startswith('F'):\n",
    "            line = line[5:]\n",
    "        if line.startswith('M'):\n",
    "            line = line[5:]\n",
    "        #print(line)\n",
    "        valid_lines.append(line)\n",
    "    \n",
    "    return ''.join(valid_lines)\n",
    "\n",
    "# 文章から単語に分解して返す\n",
    "def split_into_words(doc, name=''):\n",
    "    mecab = MeCab.Tagger(\"-Ochasen\")\n",
    "    valid_doc = trim_doc(doc)\n",
    "    lines = mecab.parse(valid_doc).splitlines()\n",
    "    words = []\n",
    "    for line in lines:\n",
    "        chunks = line.split('\\t')\n",
    "        if len(chunks) > 3 and (chunks[3].startswith('動詞') or chunks[3].startswith('形容詞') or (chunks[3].startswith('名詞') and not chunks[3].startswith('名詞-数'))):\n",
    "            words.append(chunks[0])\n",
    "    return LabeledSentence(words=words, tags=[name])\n",
    "\n",
    "# ファイルから単語のリストを取得\n",
    "def corpus_to_sentences(corpus):\n",
    "    docs = [read_document(x) for x in corpus]\n",
    "    for idx, (doc, name) in enumerate(zip(docs, corpus)):\n",
    "        sys.stdout.write('\\r前処理中 {} / {}'.format(idx, len(corpus)))\n",
    "        yield split_into_words(doc, name)\n",
    "\n",
    "# 学習\n",
    "def train(sentences):\n",
    "    model = models.Doc2Vec(size=400, alpha=0.0015, sample=1e-4, min_count=1, workers=4, iter=30)\n",
    "    model.build_vocab(sentences)   \n",
    "#     for i in range(30):\n",
    "#         print(i)\n",
    "    model.train(sentences, epochs=model.iter, total_examples=model.corpus_count)\n",
    "#         ranks = []\n",
    "#         for doc_id in range(100):\n",
    "#             inferred_vector = model.infer_vector(sentences[doc_id].words)\n",
    "#             sims = model.docvecs.most_similar([inferred_vector], topn=len(model.docvecs))\n",
    "#             rank = [docid for docid, sim in sims].index(sentences[doc_id].tags[0])\n",
    "#             ranks.append(rank)\n",
    "#         print(collections.Counter(ranks))\n",
    "#         if collections.Counter(ranks)[0] >= PASSING_PRECISION:\n",
    "#             break\n",
    "    return model\n",
    "\n",
    "if __name__ == '__main__':\n",
    "    corpus = list(get_all_files(INPUT_DOC_DIR))\n",
    "    sentences = list(corpus_to_sentences(corpus))\n",
    "    print()\n",
    "    model = train(sentences)\n",
    "    model.save(OUTPUT_MODEL)"
   ]
  },
  {
   "cell_type": "code",
   "execution_count": null,
   "metadata": {},
   "outputs": [],
   "source": []
  }
 ],
 "metadata": {
  "kernelspec": {
   "display_name": "Python 3",
   "language": "python",
   "name": "python3"
  },
  "language_info": {
   "codemirror_mode": {
    "name": "ipython",
    "version": 3
   },
   "file_extension": ".py",
   "mimetype": "text/x-python",
   "name": "python",
   "nbconvert_exporter": "python",
   "pygments_lexer": "ipython3",
   "version": "3.6.4"
  }
 },
 "nbformat": 4,
 "nbformat_minor": 2
}
